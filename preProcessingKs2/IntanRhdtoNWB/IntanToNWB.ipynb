{
 "cells": [
  {
   "cell_type": "code",
   "execution_count": 1,
   "id": "a76f0de0",
   "metadata": {},
   "outputs": [
    {
     "data": {
      "application/vnd.jupyter.widget-view+json": {
       "model_id": "cc9068ed614d47c49ce621b0d6a202c1",
       "version_major": 2,
       "version_minor": 0
      },
      "text/plain": [
       "HTML(value='<b>Conversion Settings</b>')"
      ]
     },
     "metadata": {},
     "output_type": "display_data"
    },
    {
     "data": {
      "application/vnd.jupyter.widget-view+json": {
       "model_id": "c52bf0b2a742408d9d5b5307d41bbe69",
       "version_major": 2,
       "version_minor": 0
      },
      "text/plain": [
       "HBox(children=(Label(value='File to convert:'), Text(value='example_intan_file.rhd')))"
      ]
     },
     "metadata": {},
     "output_type": "display_data"
    },
    {
     "data": {
      "application/vnd.jupyter.widget-view+json": {
       "model_id": "f2f92cd13d4c449b88aa9556c5a67149",
       "version_major": 2,
       "version_minor": 0
      },
      "text/plain": [
       "HBox(children=(Label(value='Output filename (my_intan_file.nwb if left empty):'), Text(value='')))"
      ]
     },
     "metadata": {},
     "output_type": "display_data"
    },
    {
     "data": {
      "application/vnd.jupyter.widget-view+json": {
       "model_id": "6c2b0621a82e4b71b50c9483fefa7fa9",
       "version_major": 2,
       "version_minor": 0
      },
      "text/plain": [
       "HBox(children=(Checkbox(value=False, description='Manual session description', indent=False), Label(value='If …"
      ]
     },
     "metadata": {},
     "output_type": "display_data"
    },
    {
     "data": {
      "application/vnd.jupyter.widget-view+json": {
       "model_id": "1d2ce6dbaac5428bbc9f597d572b2bac",
       "version_major": 2,
       "version_minor": 0
      },
      "text/plain": [
       "HBox(children=(Label(value='Session description'), Text(value='')))"
      ]
     },
     "metadata": {},
     "output_type": "display_data"
    },
    {
     "data": {
      "application/vnd.jupyter.widget-view+json": {
       "model_id": "8861478f50164f06983886be53097b10",
       "version_major": 2,
       "version_minor": 0
      },
      "text/plain": [
       "HBox(children=(Checkbox(value=False, description='Manual session start time', indent=False), Label(value='If n…"
      ]
     },
     "metadata": {},
     "output_type": "display_data"
    },
    {
     "data": {
      "application/vnd.jupyter.widget-view+json": {
       "model_id": "4e572786cddc4878823b4d2d4bc75238",
       "version_major": 2,
       "version_minor": 0
      },
      "text/plain": [
       "HBox(children=(BoundedIntText(value=2022, description='Year', layout=Layout(width='auto'), max=3000, min=1), B…"
      ]
     },
     "metadata": {},
     "output_type": "display_data"
    },
    {
     "data": {
      "application/vnd.jupyter.widget-view+json": {
       "model_id": "f2f8bbe317d44699849f588ec58b689f",
       "version_major": 2,
       "version_minor": 0
      },
      "text/plain": [
       "Accordion(children=(VBox(children=(HTML(value='<br>'), Checkbox(value=True, description='Include subject metad…"
      ]
     },
     "metadata": {},
     "output_type": "display_data"
    },
    {
     "data": {
      "application/vnd.jupyter.widget-view+json": {
       "model_id": "28a21a4beb2d4deeb53af714467f29c7",
       "version_major": 2,
       "version_minor": 0
      },
      "text/plain": [
       "Accordion(children=(VBox(children=(HBox(children=(Label(value='Data blocks per chunk'), BoundedIntText(value=1…"
      ]
     },
     "metadata": {},
     "output_type": "display_data"
    },
    {
     "data": {
      "application/vnd.jupyter.widget-view+json": {
       "model_id": "ba4d53b00d174c1da21b6692f50d3edf",
       "version_major": 2,
       "version_minor": 0
      },
      "text/plain": [
       "Button(description='Begin Conversion', style=ButtonStyle())"
      ]
     },
     "metadata": {},
     "output_type": "display_data"
    },
    {
     "name": "stdout",
     "output_type": "stream",
     "text": [
      "\n",
      "Reading Intan Technologies RHD2000 Data File, Version 3.0\n",
      "\n",
      "Found 512 amplifier channels.\n",
      "Found 24 auxiliary input channels.\n",
      "Found 0 supply voltage channels.\n",
      "Found 0 temperature sensors channels.\n",
      "Found 1 board ADC channel.\n",
      "Found 2 board digital input channels.\n",
      "Found 0 board digital output channels.\n",
      "\n",
      "File contains 300.002 seconds of data.  Amplifiers were sampled at 30.00 kS/s.\n",
      "Completed chunk 1000. 1.42% done. Estimated time remaining: 0:15:53. Estimated time of completion: 13:30:47\n",
      "Completed chunk 1000. 2.84% done. Estimated time remaining: 0:15:56. Estimated time of completion: 13:31:04\n",
      "Completed chunk 1000. 4.27% done. Estimated time remaining: 0:16:06. Estimated time of completion: 13:31:29\n",
      "Completed chunk 1000. 5.69% done. Estimated time remaining: 0:15:58. Estimated time of completion: 13:31:36\n"
     ]
    }
   ],
   "source": [
    "%run ConverterUI.py"
   ]
  },
  {
   "cell_type": "code",
   "execution_count": null,
   "id": "7c61be18",
   "metadata": {},
   "outputs": [],
   "source": []
  }
 ],
 "metadata": {
  "kernelspec": {
   "display_name": "Python 3 (ipykernel)",
   "language": "python",
   "name": "python3"
  },
  "language_info": {
   "codemirror_mode": {
    "name": "ipython",
    "version": 3
   },
   "file_extension": ".py",
   "mimetype": "text/x-python",
   "name": "python",
   "nbconvert_exporter": "python",
   "pygments_lexer": "ipython3",
   "version": "3.8.16"
  }
 },
 "nbformat": 4,
 "nbformat_minor": 5
}
